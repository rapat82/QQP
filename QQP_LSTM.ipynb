{
 "cells": [
  {
   "cell_type": "markdown",
   "metadata": {},
   "source": [
    "# In this notebook, I implemented a neural network from scratch, which tells us whether two given questions are similar or not "
   ]
  },
  {
   "cell_type": "markdown",
   "metadata": {},
   "source": [
    "## We will use the Quora duplicate questions dataset which is available here, unzip it and you are good to go 'quora_duplicate_questions.tsv.zip'."
   ]
  },
  {
   "cell_type": "markdown",
   "metadata": {},
   "source": [
    "# $\\color{blue}{\\text{Summary of main results}}$"
   ]
  },
  {
   "cell_type": "markdown",
   "metadata": {},
   "source": [
    "## - My research indicates that using some higher order correlators could enhance the accuracy of the neural networks in question. The original Kaggle award winning solution used an ensemble model with Siamese LSTM networks (see the figure below for a typical neural net used by them), with an accuracy of 88.75 %. Using some higher order correlators in each of the neural nets involved in their solution, could further increase their accuracy. The current state of the art according to the GLUE benchmark is 90.6 % accuracy by team Google (methods based on BERT). Using these higher order correlators on sentence embeddings obtained using BERT could further increase this accuracy. "
   ]
  },
  {
   "cell_type": "markdown",
   "metadata": {},
   "source": [
    "<img src=\"AML_poster_outline.jpg\" alt=\"Drawing\" style=\"width: 400px;\"/>"
   ]
  },
  {
   "cell_type": "markdown",
   "metadata": {},
   "source": [
    "## - Say we want to figure out whether question 1 and question 2 are similar or not. Let $q_1$ and $q_2$ be the LSTM outputs for the question 1 and question 2. In the original Kaggle award winning model, these outputs were combined using functions like $\\frac{q_1 + q_2}{2}$, $|q_1 - q_2|$, $\\max(q_1, q_2)$ and $q_1*q_2$. These functions can be thought of as correlators, as they effectively measure some abstract similarity feature between the two questions. "
   ]
  },
  {
   "cell_type": "markdown",
   "metadata": {},
   "source": [
    "## - I noticed that  $q_1*q_2$ is of second order $\\mathcal{O}(q^2)$. So, I coded in the other second order correlators, for example, $|q_1^2 - q_2^2|$, $\\max{(q_1^2, q_2^2)}$ and $\\frac{q_1^2 + q_2^2}{2}$. These other second order correlators do indeed increase the performance of the network."
   ]
  },
  {
   "cell_type": "markdown",
   "metadata": {},
   "source": [
    "## - Then I proceeded to higher order correlators. The table below presents the accuracy of a single neural using such correlators. I found that not all correlators are as high performing. This can be understood by considering the symmetry properties of the various correlators. Different correlators transform differently under various symmetry operations, for example rotation and translation in $q-space$.  "
   ]
  },
  {
   "cell_type": "markdown",
   "metadata": {},
   "source": [
    "## - The best way to figure out which correlators are better is to simply try them out! Check the table below for comparison. The size of the hidden state is fixed to 1024 and the size of the embedding matrix is fixed to 512. I noticed that one could reach an accuracy of 83.6 % for a single neural net by concatenating the high performing correlators (this number would probably go up if we increase the size of hidden state and train for more epochs)."
   ]
  },
  {
   "cell_type": "markdown",
   "metadata": {},
   "source": [
    "\n",
    "|Correlators|Accuracy (%)|\n",
    "|---|---|\n",
    "|$\\max{(q_1, q_2)}$|82.82|\n",
    "|$\\frac{q_1+q_2}{2}$|79.09|\n",
    "|$|q_1 - q_2|$|82.98|\n",
    "|$q_1\\ast q_2$|82.25|\n",
    "|$\\max{(q_1^2, q_2^2)}$|80.59|\n",
    "|$\\frac{q_1^2+q_2^2}{2}$|79.10|\n",
    "|$|q_1^2 - q_2^2|$|82.95|\n",
    "|$\\frac{q_1^3+q_2^3}{2}$|79.06|\n",
    "|$|q_1^3 - q_2^3|$|82.61|\n",
    "|$\\max{(q_1^3, q_2^3)}$|82.17|\n",
    "|$\\big|\\frac{q_1 + q_2}{2}(q_1^2-q_2^2)\\big|$|82.05|\n",
    "|$|(q_1-q_2)(q_1^2-q_2^2)|$|82.52|\n",
    "|$\\frac{q_1^4+q_2^4}{2}$|65.20|\n",
    "|$|q_1^4 - q_2^4|$|82.13|\n",
    "|$\\max{(q_1^4, q_2^4)}$|79.95|\n",
    "|$\\big|\\frac{q_1 + q_2}{2}(q_1^3-q_2^3)\\big|$|82.29|\n",
    "|$|(q_1-q_2)(q_1^3-q_2^3)|$|80.86|\n",
    "|$q_1^2\\ast q_2^2$|81.53|"
   ]
  },
  {
   "cell_type": "markdown",
   "metadata": {},
   "source": [
    "# Things to do\n",
    "## - Use sentence embeddings from BERT for each question and use higher order correlators \n",
    "## - Ensemble average high performing Siamese LSTM based neural nets including higher order correlators\n",
    "## - Improve data preprocessing in a way which improves performance"
   ]
  },
  {
   "cell_type": "code",
   "execution_count": 1,
   "metadata": {
    "scrolled": true
   },
   "outputs": [],
   "source": [
    "# Let's explore the dataset using pandas\n",
    "import pandas as pd\n",
    "import numpy as np\n",
    "q_data_old = pd.read_csv('quora_duplicate_questions.tsv',delimiter='\\t')\n",
    "# Let's remove null entries from question1 and question2 positions\n",
    "q_data_mid = q_data_old[q_data_old['question1'].notnull()]\n",
    "q_data = q_data_mid[q_data_mid['question2'].notnull()]\n",
    "#print(len(q_data_old))\n",
    "#print(len(q_data_mid))\n",
    "#print(len(q_data))\n",
    "#print(q_data.head())\n",
    "#print(q_data.tail())"
   ]
  },
  {
   "cell_type": "markdown",
   "metadata": {},
   "source": [
    "# Now, we want to figure out what should be the sequence length for questions, when using LSTM\n",
    "- To begin with we will try to keep the sequence length to be the average of the body of the questions \n",
    "- Remember that below the punctuations are not separate tokens\n",
    "- The idea here is to use a large number of parameters to begin with and later increase dropout if needed\n",
    "- From the analysis below, it seems like a sequence length of 15 for one question would be a good start, we can vary the value of this hyperparameter and evaluate the performance to figure out the best model"
   ]
  },
  {
   "cell_type": "code",
   "execution_count": 2,
   "metadata": {},
   "outputs": [],
   "source": [
    "# Now lets try to figure out what should be the sequence length for our questions\n",
    "q1_list = q_data[\"question1\"].values\n",
    "q2_list = q_data[\"question2\"].values\n",
    "label_list = q_data[\"is_duplicate\"].values\n",
    "#print(len(q1_list))\n",
    "#print(len(set(q1_list)))\n",
    "#print(len(q2_list))\n",
    "#print(len(set(q2_list)))\n",
    "#print(q1_list[0])\n",
    "#print(q1_list[0].split())\n",
    "#print(len(q1_list[0].split()))\n",
    "q1_len_list = []\n",
    "q2_len_list = []\n",
    "for ii in range(0,len(q1_list)):\n",
    "    q1_len_list.append(len(q1_list[ii].split()))\n",
    "    q2_len_list.append(len(q2_list[ii].split()))\n",
    "#print(len(q1_len_list))\n",
    "#print(len(q2_len_list))\n",
    "#print(min(q1_len_list))\n",
    "#print(max(q1_len_list))\n",
    "#print(min(q2_len_list))\n",
    "#print(max(q2_len_list))\n",
    "#print(max(q2_len_list))\n",
    "from statistics import mean, median\n",
    "#print(mean(q1_len_list))\n",
    "#print(mean(q2_len_list))\n",
    "#print(median(q1_len_list))\n",
    "#print(median(q2_len_list))"
   ]
  },
  {
   "cell_type": "code",
   "execution_count": 3,
   "metadata": {},
   "outputs": [],
   "source": [
    "#print(q1_list[1])"
   ]
  },
  {
   "cell_type": "code",
   "execution_count": 4,
   "metadata": {},
   "outputs": [],
   "source": [
    "from string import punctuation\n",
    "# Removing punctuation and converting to lowercase\n",
    "#print(punctuation)\n",
    "q1_nopunct = []\n",
    "q2_nopunct = []\n",
    "for entry in q1_list:\n",
    "    q1_nopunct.append(''.join([c for c in entry if c not in punctuation]).lower())\n",
    "for entry in q2_list:\n",
    "    q2_nopunct.append(''.join([c for c in entry if c not in punctuation]).lower())"
   ]
  },
  {
   "cell_type": "code",
   "execution_count": 5,
   "metadata": {},
   "outputs": [],
   "source": [
    "#print(q1_nopunct[0])\n",
    "#print(q1_nopunct[1])\n",
    "#print(q2_nopunct[0])\n",
    "#print(q2_nopunct[1])"
   ]
  },
  {
   "cell_type": "code",
   "execution_count": 6,
   "metadata": {},
   "outputs": [],
   "source": [
    "joined_list = q1_nopunct + q2_nopunct\n",
    "all_text = ' '.join(joined_list)\n",
    "words=all_text.split()\n",
    "from collections import Counter\n",
    "\n",
    "c = Counter(words)\n",
    "vocab = sorted(c, key=c.get, reverse=True)\n",
    "vocab_small = vocab[:20000]\n",
    "#print(len(vocab))\n",
    "#print(len(vocab_small))\n",
    "# If we use vocab_small the dimensions of the problem are reduced, however we must add new token for all of \n",
    "# words which are missed out due to cutting of the full vocabulary. Since we use the token 0 for padding we\n",
    "# can use token len(vocab_small)+1 for 'unkown' words (remeber we count the 'normal' text toekns starting \n",
    "# from 1, NOT 0)"
   ]
  },
  {
   "cell_type": "code",
   "execution_count": 7,
   "metadata": {},
   "outputs": [],
   "source": [
    "#print(vocab_small[0])\n",
    "#print(vocab_small[19999])"
   ]
  },
  {
   "cell_type": "code",
   "execution_count": 8,
   "metadata": {},
   "outputs": [],
   "source": [
    "vocab_to_int = {word:ii for ii, word in enumerate(vocab,1)}\n",
    "#vocab_to_int = {word:ii for ii, word in enumerate(vocab_small,1)}\n",
    "q1_num = []\n",
    "q2_num = []\n",
    "for entry in q1_nopunct:\n",
    "    q1_num.append([vocab_to_int[word] for word in entry.split()])\n",
    "for entry in q2_nopunct:\n",
    "    q2_num.append([vocab_to_int[word] for word in entry.split()])\n",
    "################################################################\n",
    "# In case we use small vocab_small we could use the code below\n",
    "################################################################\n",
    "#for entry in q1_nopunct:\n",
    "#    q1_num_row=[]\n",
    "#    for word in entry.split():\n",
    "#        if word in vocab_to_int.keys():\n",
    "#            q1_num_row.append(vocab_to_int[word])\n",
    "#        else:\n",
    "#            q1_num_row.append(len(vocab_small)+1)\n",
    "#    q1_num.append(q1_num_row)\n",
    "#################################################################"
   ]
  },
  {
   "cell_type": "code",
   "execution_count": 9,
   "metadata": {},
   "outputs": [],
   "source": [
    "#print(q1_num[101])\n",
    "#print(q2_num[101])"
   ]
  },
  {
   "cell_type": "code",
   "execution_count": 10,
   "metadata": {},
   "outputs": [],
   "source": [
    "#print(q1_num[40001])\n",
    "#print(q2_num[40001])"
   ]
  },
  {
   "cell_type": "code",
   "execution_count": 11,
   "metadata": {},
   "outputs": [],
   "source": [
    "#print(len(q1_num))\n",
    "#print(len(q1_num[2]))"
   ]
  },
  {
   "cell_type": "markdown",
   "metadata": {},
   "source": [
    "# Encoding the labels\n",
    "- Since we already have encoded labels in the last column of the quora data file, we can simply convert it to a numpy array "
   ]
  },
  {
   "cell_type": "code",
   "execution_count": 12,
   "metadata": {},
   "outputs": [],
   "source": [
    "encoded_labels = np.array(label_list)"
   ]
  },
  {
   "cell_type": "code",
   "execution_count": 13,
   "metadata": {},
   "outputs": [],
   "source": [
    "#print(encoded_labels[:100])"
   ]
  },
  {
   "cell_type": "code",
   "execution_count": 14,
   "metadata": {},
   "outputs": [],
   "source": [
    "def pad_questions_left(questions, seq_length):\n",
    "    num_qs = len(questions)\n",
    "    half_features = np.zeros((num_qs, seq_length), dtype=int)\n",
    "    for ii in range(0,num_qs):\n",
    "        if len(questions[ii]) >= seq_length:\n",
    "            half_features[ii,:] = questions[ii][:seq_length]\n",
    "        else:\n",
    "            for ll in range(0, len(questions[ii])):\n",
    "                half_features[ii,-ll-1]=questions[ii][-ll-1]\n",
    "    return half_features\n",
    "\n",
    "def pad_questions_right(questions, seq_length):\n",
    "    num_qs = len(questions)\n",
    "    half_features = np.zeros((num_qs, seq_length), dtype=int)\n",
    "    for ii in range(0,num_qs):\n",
    "        if len(questions[ii]) >= seq_length:\n",
    "            half_features[ii,:] = questions[ii][:seq_length]\n",
    "        else:\n",
    "            for ll in range(0, len(questions[ii])):\n",
    "                half_features[ii,ll]=questions[ii][ll]\n",
    "    return half_features"
   ]
  },
  {
   "cell_type": "code",
   "execution_count": 15,
   "metadata": {},
   "outputs": [],
   "source": [
    "seq_length=15\n",
    "q1_features = pad_questions_left(q1_num, seq_length=seq_length)\n",
    "q2_features = pad_questions_left(q2_num, seq_length=seq_length)"
   ]
  },
  {
   "cell_type": "code",
   "execution_count": 16,
   "metadata": {},
   "outputs": [],
   "source": [
    "#print(q1_features[1,:])\n",
    "#print(q2_features[1,:])"
   ]
  },
  {
   "cell_type": "markdown",
   "metadata": {},
   "source": [
    "# Now we join the two questions to form the input for the LSTM, note: This is done as I am experimenting with many ideas about splitting the questions. For the Siamese LSTM we are going to split these and send them one by one"
   ]
  },
  {
   "cell_type": "code",
   "execution_count": 17,
   "metadata": {},
   "outputs": [],
   "source": [
    "q_features = np.concatenate((q1_features,q2_features), axis=1)\n",
    "#print(q_features[:5,:])"
   ]
  },
  {
   "cell_type": "markdown",
   "metadata": {},
   "source": [
    "# Split into training, validation and testing data "
   ]
  },
  {
   "cell_type": "code",
   "execution_count": 18,
   "metadata": {},
   "outputs": [],
   "source": [
    "split_frac=0.8\n",
    "iindex = int(len(q_features)*split_frac)\n",
    "train_x, restof_x = q_features[:iindex], q_features[iindex:]\n",
    "train_y, restof_y = encoded_labels[:iindex], encoded_labels[iindex:] \n",
    "iindex = int(len(restof_x)*0.5)\n",
    "val_x, test_x = restof_x[:iindex], restof_x[iindex:]\n",
    "val_y, test_y = restof_y[:iindex], restof_y[iindex:]\n",
    "#print('Train set shape is', train_x.shape)\n",
    "#print('Validation set shape is', val_x.shape)\n",
    "#print('Test set shape is', test_x.shape)\n",
    "#print('Train label set shape is', train_y.shape)\n",
    "#print('Validation label set shape is', val_y.shape)\n",
    "#print('Test label set shape is', test_y.shape)\n",
    "\n",
    "#####################################################################################\n",
    "#######  Use the code below if we need to shuffle the data before splitting #########\n",
    "#####################################################################################\n",
    "#seed=42\n",
    "#np.random.seed(seed)\n",
    "#len(q_features)\n",
    "#print(q_features[:5,:])\n",
    "#perm = np.random.permutation(q_features.shape[0])\n",
    "#print(perm[:5])\n",
    "#features_shuffled = np.zeros_like(q_features)\n",
    "#labels_shuffled = np.zeros_like(encoded_labels)\n",
    "#np.take(q_features,perm,axis=0,out=features_shuffled)\n",
    "#np.take(encoded_labels,perm,axis=0,out=labels_shuffled)\n",
    "#print(features_shuffled[:5,:])\n",
    "#print(encoded_labels[:5])\n",
    "#print(labels_shuffled[:5])"
   ]
  },
  {
   "cell_type": "code",
   "execution_count": 19,
   "metadata": {},
   "outputs": [],
   "source": [
    "###### test code for shuffling matrices using randomly generated index list #######\n",
    "###################################################################################\n",
    "#X=np.random.random((5,2))\n",
    "#print(X)\n",
    "#Y=np.random.random((5,1))\n",
    "#print(Y)\n",
    "#perm=np.random.permutation(X.shape[0])\n",
    "#print(perm)\n",
    "#X_s=np.zeros_like(X)\n",
    "#Y_s=np.zeros_like(Y)\n",
    "#np.take(X,perm,axis=0,out=X_s)\n",
    "#np.take(Y,perm,axis=0,out=Y_s)\n",
    "#print(X_s)\n",
    "#print(Y_s)\n",
    "####################################################################################"
   ]
  },
  {
   "cell_type": "code",
   "execution_count": 20,
   "metadata": {},
   "outputs": [],
   "source": [
    "###############################################################################################\n",
    "###############################################################################################\n",
    "# Code for training, validation and testing split when data is from a dataframe\n",
    "# Since we have deleted some entries with null entries, when using permutations with the same\n",
    "# datafrom will give out of bound error, so we save and load the new datafram\n",
    "#q_data.to_csv('q_data.csv', index=False)\n",
    "\n",
    "#def train_validate_test_split(df, train_percent=.8, validate_percent=.1, seed=42):\n",
    "#    np.random.seed(seed)\n",
    "#    perm = np.random.permutation(df.index)\n",
    "#    m = len(df.index)\n",
    "#    train_end = int(train_percent * m)\n",
    "#    validate_end = int(validate_percent * m) + train_end\n",
    "#    train = df.iloc[perm[:train_end]]\n",
    "#    validate = df.iloc[perm[train_end:validate_end]]\n",
    "#    test = df.iloc[perm[validate_end:]]\n",
    "#    return train, validate, test\n",
    "#q_data = pd.read_csv('q_data.csv')\n",
    "#q_data_old = pd.read_csv('quora_duplicate_questions.tsv',delimiter='\\t')\n",
    "# Let's remove null entries from question1 and question2 positions\n",
    "#q_data_mid = q_data_old[q_data_old['question1'].notnull()]\n",
    "#q_data = q_data_mid[q_data_mid['question2'].notnull()]\n",
    "#print(q_data.shape)\n",
    "\n",
    "#q_data_train, q_data_val, q_data_test = train_validate_test_split(q_data,train_percent=.8, validate_percent=.1, seed=42 )\n",
    "#print(q_data_train.shape)\n",
    "#print(q_data_val.shape)\n",
    "#print(q_data_test.shape)\n",
    "#q_data_train.to_csv('train.csv', index=False)\n",
    "#q_data_val.to_csv('val.csv', index=False)\n",
    "#q_data_test.to_csv('test.csv', index=False)\n",
    "###############################################################################################\n",
    "###############################################################################################"
   ]
  },
  {
   "cell_type": "code",
   "execution_count": 21,
   "metadata": {},
   "outputs": [],
   "source": [
    "###############################################################################################\n",
    "###################### Using Torchtext to do some of the preprocessing ########################\n",
    "###############################################################################################\n",
    "###############################################################################################\n",
    "#import torchtext\n",
    "#from torchtext.data import Field\n",
    "#tokenize = lambda x: x.split()\n",
    "#TEXT = Field(sequential=True, tokenize=tokenize, lower=True, fix_length=10, eos_token='end_question')\n",
    "\n",
    "#from torchtext.data import TabularDataset\n",
    "\n",
    "#q_datafields = [(\"id\", None), (\"qid1\", None), (\"qid2\", None), (\"question1\", TEXT), (\"question2\", TEXT),\n",
    "#                (\"is_duplicate\", None)]\n",
    "#train, val, test = TabularDataset.splits(path='', train ='train.csv', validation='val.csv', test='test.csv',\n",
    "#                                        format='csv', skip_header=True, fields=q_datafields)\n",
    "#train[0]\n",
    "#train[0].__dict__.keys()\n",
    "#print(train[2].question1)\n",
    "#print(train[2].question2)\n",
    "#print(val[2].question1)\n",
    "#print(val[2].question2)\n",
    "###############################################################################################\n",
    "###############################################################################################\n",
    "###############################################################################################\n",
    "###############################################################################################"
   ]
  },
  {
   "cell_type": "markdown",
   "metadata": {},
   "source": [
    "# Creating batches of data for the neural network\n",
    "## This involves two steps\n",
    "- Use TensorDatasets to convert data into tensors\n",
    "- Creata dataloaders with a given batch size "
   ]
  },
  {
   "cell_type": "code",
   "execution_count": 22,
   "metadata": {},
   "outputs": [],
   "source": [
    "import torch\n",
    "from torch.utils.data import TensorDataset, DataLoader\n",
    "\n",
    "train_data = TensorDataset(torch.from_numpy(train_x), torch.from_numpy(train_y))\n",
    "valid_data = TensorDataset(torch.from_numpy(val_x), torch.from_numpy(val_y))\n",
    "test_data = TensorDataset(torch.from_numpy(test_x), torch.from_numpy(test_y))\n",
    "\n",
    "batch_size = 512\n",
    "\n",
    "train_loader = DataLoader(train_data, shuffle = True, batch_size=batch_size, drop_last=True)\n",
    "valid_loader = DataLoader(valid_data, shuffle = True, batch_size=batch_size, drop_last=True)\n",
    "test_loader = DataLoader(test_data, shuffle = False, batch_size=batch_size, drop_last=True)"
   ]
  },
  {
   "cell_type": "code",
   "execution_count": 23,
   "metadata": {},
   "outputs": [
    {
     "name": "stdout",
     "output_type": "stream",
     "text": [
      "Sample input size:  torch.Size([512, 30])\n",
      "Sample input: \n",
      " tensor([[    0,     0,     0,  ...,     8,  6096,   269],\n",
      "        [    2,   257,   604,  ...,    90,     6, 16712],\n",
      "        [  103,    15,    78,  ...,   119,     8,    35],\n",
      "        ...,\n",
      "        [    0,     0,     0,  ...,    12,   375,   970],\n",
      "        [    0,     0,     0,  ...,    62,  1241,   256],\n",
      "        [    2,    11,    26,  ...,    41,   926,   273]])\n",
      "\n",
      "Sample label size:  torch.Size([512])\n",
      "Sample label: \n",
      " tensor([0, 0, 1, 1, 1, 0, 0, 0, 0, 0, 1, 0, 1, 1, 1, 1, 0, 1, 1, 1, 1, 0, 0, 1,\n",
      "        0, 1, 1, 0, 1, 0, 1, 0, 0, 0, 0, 1, 1, 0, 0, 0, 0, 0, 1, 1, 1, 0, 1, 0,\n",
      "        0, 0, 0, 0, 0, 0, 1, 1, 0, 1, 1, 0, 1, 1, 0, 0, 1, 1, 0, 1, 0, 0, 0, 0,\n",
      "        0, 0, 0, 0, 0, 0, 0, 0, 0, 0, 1, 1, 1, 1, 0, 1, 1, 0, 1, 0, 1, 0, 1, 1,\n",
      "        0, 0, 1, 1, 1, 0, 0, 0, 0, 0, 0, 0, 1, 1, 0, 0, 0, 0, 1, 0, 0, 0, 1, 1,\n",
      "        1, 0, 1, 1, 1, 1, 1, 0, 0, 1, 1, 1, 0, 0, 1, 0, 0, 0, 0, 0, 0, 0, 0, 1,\n",
      "        0, 0, 0, 0, 0, 0, 0, 0, 0, 1, 0, 0, 1, 1, 0, 0, 0, 0, 0, 1, 1, 0, 0, 1,\n",
      "        0, 0, 0, 0, 1, 0, 1, 0, 0, 0, 1, 0, 0, 0, 0, 0, 1, 1, 0, 0, 1, 0, 0, 1,\n",
      "        0, 0, 0, 0, 0, 1, 0, 1, 1, 1, 1, 0, 0, 1, 1, 1, 0, 0, 0, 0, 1, 0, 0, 1,\n",
      "        0, 1, 0, 1, 1, 0, 1, 1, 1, 1, 0, 1, 0, 0, 0, 1, 0, 0, 0, 0, 0, 1, 0, 0,\n",
      "        1, 1, 1, 0, 1, 0, 0, 1, 1, 0, 1, 0, 0, 1, 1, 1, 1, 0, 0, 1, 0, 0, 0, 1,\n",
      "        0, 0, 0, 0, 0, 1, 0, 0, 0, 0, 0, 0, 0, 1, 0, 0, 1, 0, 0, 0, 0, 0, 0, 0,\n",
      "        0, 0, 0, 1, 0, 0, 1, 0, 0, 0, 0, 0, 0, 0, 0, 0, 1, 0, 0, 0, 0, 1, 0, 0,\n",
      "        0, 1, 0, 1, 1, 1, 0, 1, 1, 1, 1, 0, 0, 0, 0, 0, 1, 1, 1, 0, 1, 0, 0, 0,\n",
      "        0, 1, 0, 1, 0, 0, 0, 1, 0, 1, 0, 1, 0, 0, 1, 1, 0, 0, 0, 1, 1, 0, 0, 0,\n",
      "        0, 1, 1, 1, 0, 0, 0, 0, 0, 0, 1, 1, 1, 1, 0, 0, 1, 0, 1, 1, 0, 1, 1, 0,\n",
      "        1, 0, 1, 0, 0, 0, 0, 0, 0, 0, 1, 0, 0, 0, 1, 0, 1, 0, 0, 0, 1, 0, 1, 1,\n",
      "        0, 1, 0, 0, 0, 0, 1, 0, 0, 1, 0, 0, 0, 0, 0, 1, 1, 0, 1, 0, 0, 0, 1, 0,\n",
      "        0, 1, 1, 0, 1, 1, 0, 0, 0, 1, 0, 1, 0, 1, 1, 0, 0, 0, 0, 0, 0, 1, 0, 0,\n",
      "        0, 0, 0, 0, 0, 0, 0, 0, 0, 1, 0, 1, 0, 0, 0, 1, 0, 1, 0, 0, 0, 0, 0, 1,\n",
      "        1, 0, 0, 1, 0, 0, 0, 0, 0, 0, 0, 1, 0, 0, 1, 0, 0, 0, 0, 1, 1, 1, 0, 1,\n",
      "        0, 0, 0, 0, 1, 1, 1, 0])\n"
     ]
    }
   ],
   "source": [
    "# Check if the dataloader is working as expected\n",
    "dataiter = iter(train_loader)\n",
    "sample_x, sample_y = dataiter.next()\n",
    "\n",
    "print('Sample input size: ', sample_x.size()) # batch_size, seq_length\n",
    "print('Sample input: \\n', sample_x)\n",
    "print()\n",
    "print('Sample label size: ', sample_y.size()) # batch_size\n",
    "print('Sample label: \\n', sample_y)"
   ]
  },
  {
   "cell_type": "code",
   "execution_count": 24,
   "metadata": {},
   "outputs": [
    {
     "name": "stdout",
     "output_type": "stream",
     "text": [
      "Training on GPU\n"
     ]
    }
   ],
   "source": [
    "# Check if GPU is available and use it\n",
    "train_on_gpu=torch.cuda.is_available()\n",
    "\n",
    "if train_on_gpu:\n",
    "    print(\"Training on GPU\")\n",
    "else:\n",
    "    print(\"GPU is NOT available. Training on CPU\")"
   ]
  },
  {
   "cell_type": "code",
   "execution_count": 25,
   "metadata": {},
   "outputs": [],
   "source": [
    "# Create the neural network class\n",
    "\n",
    "import torch.nn as nn\n",
    "\n",
    "class QALSTM(nn.Module):\n",
    "    # The model below will calculate the similarity of two questions\n",
    "    #def __init__(self, vocab_size, output_size, embedding_dim, hidden_dim,\n",
    "    #            n_layers, drop_prob = 0.5):\n",
    "    def __init__(self, vocab_size, seq_len, output_size, embedding_dim, hidden_dim, n_layers, drop_prob=0.5):\n",
    "        \n",
    "        super(QALSTM, self).__init__()\n",
    "        \n",
    "        self.seq_len = seq_len\n",
    "        self.output_size = output_size\n",
    "        self.n_layers = n_layers\n",
    "        self.hidden_dim = hidden_dim\n",
    "        self.vocab_size = vocab_size\n",
    "        self.embedding_dim =embedding_dim\n",
    "        self.drop_prob = drop_prob\n",
    "        \n",
    "        # Set up the various layers that make up our network\n",
    "        \n",
    "        self.embed = nn.Embedding(vocab_size, embedding_dim)\n",
    "        #self.lstm = nn.LSTM(embedding_dim, hidden_dim, n_layers, batch_first = True, \n",
    "        #                    dropout = drop_prob)\n",
    "        self.lstm = nn.LSTM(embedding_dim, hidden_dim, \n",
    "                           n_layers, dropout = drop_prob,\n",
    "                           batch_first = True)\n",
    "        self.dropout = nn.Dropout(0.5)\n",
    "        self.fc = nn.Linear(7*hidden_dim, hidden_dim)\n",
    "        self.dropout2 = nn.Dropout(0.5)\n",
    "        self.fc2 = nn.Linear(hidden_dim, output_size)\n",
    "        #self.dropout3 = nn.Dropout(0.5)\n",
    "        #self.fc3 = nn.Linear(100,output_size)\n",
    "        self.sigmoid = nn.Sigmoid()\n",
    "\n",
    "    def forward_half(self, x, hidden):\n",
    "        embed_vector = self.embed(x)\n",
    "        lstm_output, hidden = self.lstm(embed_vector, hidden) \n",
    "        # lstm_output now has output from all sequences\n",
    "        # hidden now has both the final (end of seq.) hidden state and the cell state\n",
    "        lstm_output = lstm_output.contiguous().view(-1,self.hidden_dim)\n",
    "        # lstm_output is now a 2D array of rows X hidden_dim\n",
    "        \n",
    "        return lstm_output, hidden\n",
    "    \n",
    "    def forward(self, x, hidden1, hidden2):\n",
    "        \n",
    "        batch_size = x.size(0)\n",
    "        x = x.long()\n",
    "        x1 = torch.split(x,seq_len,dim=1)[0]\n",
    "        x2 = torch.split(x,seq_len,dim=1)[1]\n",
    "        lstm_output1, hidden1 = self.forward_half(x1, hidden1)\n",
    "        lstm_output2, hidden2 = self.forward_half(x2, hidden2)\n",
    "#        The implementation below gives around 82%, lets add max and min features and remove\n",
    "#        the bare outputs\n",
    "#        lstm_output = torch.cat((lstm_output1,lstm_output2, torch.abs(lstm_output1-lstm_output2),\n",
    "#                                lstm_output1*lstm_output2,(lstm_output1+lstm_output2)/2,\n",
    "#                                torch.max(lstm_output1,lstm_output2)), dim=1)\n",
    "#        lstm_output = torch.cat((lstm_output1,lstm_output2,torch.max(lstm_output1,lstm_output2),\n",
    "#                                 torch.abs(lstm_output1-lstm_output2), lstm_output1*lstm_output2,\n",
    "#                                 (lstm_output1+lstm_output2)/2, \n",
    "#                                 torch.abs(lstm_output1**2 - lstm_output2**2),\n",
    "#                                (lstm_output1**2 + lstm_output2**2)/2,\n",
    "#                                torch.abs(lstm_output1**3 - lstm_output2**3),\n",
    "#                                (lstm_output1**3 + lstm_output2**3)/2,\n",
    "#                                torch.abs((1/2)*(lstm_output1 + lstm_output2)*(lstm_output1**2-lstm_output2**2))), dim=1) \n",
    "#                                torch.abs(lstm_output1**4 - lstm_output2**4),\n",
    "#                                (lstm_output1**4 + lstm_output2**4)/2,\n",
    "#                                torch.abs((lstm_output1**3 - lstm_output2**3)*(lstm_output1 - lstm_output2))),dim=1)\n",
    "#                                 ,\n",
    "#                                lstm_output1**2 - lstm_output2**2)\n",
    "#                                 , dim=1)\n",
    "        lstm_output = torch.cat((torch.max(lstm_output1,lstm_output2), \n",
    "                                 torch.abs(lstm_output1-lstm_output2),\n",
    "                                 lstm_output1*lstm_output2,\n",
    "                                 torch.abs(lstm_output1**2-lstm_output2**2),\n",
    "                                torch.abs(lstm_output1**3-lstm_output2**3),\n",
    "                                torch.abs(lstm_output1**4-lstm_output2**4),\n",
    "                                torch.abs(lstm_output1**3-lstm_output2**3)*(lstm_output1+lstm_output2)/2), dim=1)\n",
    "#        lstm_output = torch.abs(lstm_output1 - lstm_output2)\n",
    "\n",
    "\n",
    "\n",
    "\n",
    "        #        hidden = torch.cat((hidden1,hidden2), dim=1)\n",
    "        out = self.dropout(lstm_output)\n",
    "        out = self.fc(out)\n",
    "        out = self.dropout2(out)\n",
    "        out = self.fc2(out)\n",
    "        #out = self.dropout3(out)\n",
    "        #out = self.fc3(out)\n",
    "        # out is now of dimension rows X output_size\n",
    "        sigmoid_out = self.sigmoid(out)\n",
    "        sigmoid_out = sigmoid_out.view(batch_size, -1)\n",
    "        # sigmoid_out is now of dimension batch_size X columns\n",
    "        sigmoid_out = sigmoid_out[:,-1]\n",
    "        # This was the step where we took the last batch of 'labels'\n",
    "        return sigmoid_out, hidden1, hidden2\n",
    "    \n",
    "    def init_hidden(self, batch_size):\n",
    "        \n",
    "        # Let's create new tensors initialized to zero for the hidden state and cell state of the LSTM\n",
    "        # these should be two tensors of size n_layers X batch_size X hidden\n",
    "        # There should be n_layers*2 for bidirectional \n",
    "        weight = next(self.parameters()).data\n",
    "        \n",
    "        if train_on_gpu:\n",
    "            hidden=(weight.new(self.n_layers, batch_size, self.hidden_dim).zero_().cuda(),\n",
    "                   weight.new(self.n_layers, batch_size, self.hidden_dim).zero_().cuda())\n",
    "        else:\n",
    "            hidden=(weight.new(self.n_layers, batch_size, self.hidden_dim).zero_(),\n",
    "                   weight.new(self.n_layers, batch_size, self.hidden_dim).zero_())\n",
    "            \n",
    "        return hidden\n"
   ]
  },
  {
   "cell_type": "code",
   "execution_count": 26,
   "metadata": {
    "scrolled": true
   },
   "outputs": [
    {
     "name": "stdout",
     "output_type": "stream",
     "text": [
      "QALSTM(\n",
      "  (embed): Embedding(111674, 512)\n",
      "  (lstm): LSTM(512, 1024, num_layers=2, batch_first=True, dropout=0.5)\n",
      "  (dropout): Dropout(p=0.5)\n",
      "  (fc): Linear(in_features=7168, out_features=1024, bias=True)\n",
      "  (dropout2): Dropout(p=0.5)\n",
      "  (fc2): Linear(in_features=1024, out_features=1, bias=True)\n",
      "  (sigmoid): Sigmoid()\n",
      ")\n"
     ]
    }
   ],
   "source": [
    "# Now we can instantiate the neural network\n",
    "vocab_size = len(vocab_to_int) + 1\n",
    "output_size = 1\n",
    "embedding_dim = 512\n",
    "hidden_dim = 1024\n",
    "n_layers = 2\n",
    "seq_len = 15\n",
    "net = QALSTM(vocab_size, seq_len, output_size, embedding_dim, hidden_dim, n_layers)\n",
    "\n",
    "print(net)"
   ]
  },
  {
   "cell_type": "code",
   "execution_count": 27,
   "metadata": {},
   "outputs": [],
   "source": [
    "# Now we can define the training parameters and loss function\n",
    "lr = 0.001\n",
    "criterion = nn.BCELoss()\n",
    "optimizer = torch.optim.Adam(net.parameters(), lr=lr)"
   ]
  },
  {
   "cell_type": "code",
   "execution_count": 28,
   "metadata": {},
   "outputs": [
    {
     "name": "stdout",
     "output_type": "stream",
     "text": [
      "Epoch: 1/6---finished---accuracy:0.7978926018452102\n",
      "Epoch: 2/6---finished---accuracy:0.8191149917138688\n",
      "Epoch: 3/6---finished---accuracy:0.8197333597170348\n",
      "Epoch: 4/6---finished---accuracy:0.8148358851319597\n",
      "Epoch: 5/6---finished---accuracy:0.8295035741670583\n",
      "Epoch: 6/6---finished---accuracy:0.8335600682678276\n"
     ]
    },
    {
     "data": {
      "image/png": "[encoded data removed]",
      "text/plain": [
       "<Figure size 432x288 with 1 Axes>"
      ]
     },
     "metadata": {},
     "output_type": "display_data"
    },
    {
     "data": {
      "image/png": "[encoded data removed]",
      "text/plain": [
       "<Figure size 432x288 with 1 Axes>"
      ]
     },
     "metadata": {},
     "output_type": "display_data"
    },
    {
     "data": {
      "image/png": "[encoded data removed]",
      "text/plain": [
       "<Figure size 432x288 with 1 Axes>"
      ]
     },
     "metadata": {},
     "output_type": "display_data"
    },
    {
     "data": {
      "image/png": "[encoded data removed]",
      "text/plain": [
       "<Figure size 432x288 with 1 Axes>"
      ]
     },
     "metadata": {},
     "output_type": "display_data"
    }
   ],
   "source": [
    "epochs = 6\n",
    "# To print losses every now and then use the counter below\n",
    "#counter = 0\n",
    "#print_every = 2\n",
    "clip = 5 # Gradient clipping\n",
    "\n",
    "# If GPU is available, train on GPU\n",
    "if (train_on_gpu):\n",
    "    net.cuda()\n",
    "\n",
    "net.train()\n",
    "# Now our network is in training mode, lets train for some epochs\n",
    "loss_vs_epoch = []\n",
    "valloss_vs_epoch = []\n",
    "testloss_vs_epoch = []\n",
    "accuracy_vs_epoch = []\n",
    "accuracy_old = 0.0\n",
    "#accuracy_old_old =0.0\n",
    "accuracy = 0.0\n",
    "for e in range(0,epochs):\n",
    "    # create hidden state\n",
    "    h1 = net.init_hidden(batch_size)\n",
    "    h2 = net.init_hidden(batch_size)\n",
    "    # do this for every batch\n",
    "    for inputs, labels in train_loader:\n",
    "        #counter += 1\n",
    "        if (train_on_gpu):\n",
    "            inputs, labels = inputs.cuda(), labels.cuda()\n",
    "        # Create new variables for the hidden state, so we don't backpropagate through entire training history\n",
    "        h1 = tuple([each.data for each in h1])\n",
    "        h2 = tuple([each.data for each in h2])\n",
    "        # zero out the accumulated gradients\n",
    "        net.zero_grad()\n",
    "        output, h1, h2 = net(inputs, h1, h2)\n",
    "        # Calculate loss and perform backpropagation\n",
    "        loss = criterion(output.squeeze(), labels.float())\n",
    "        loss.backward()\n",
    "        # below we take care of exploding gradient problem\n",
    "        nn.utils.clip_grad_norm_(net.parameters(), clip)\n",
    "        optimizer.step()\n",
    "        #print('finished training a batch')\n",
    "        # Loss statistics\n",
    "    loss_vs_epoch.append([e+1, loss.item()])\n",
    "        #if counter % print_every == 0:\n",
    "            # Calculate validation loss\n",
    "    val_h1 = net.init_hidden(batch_size)\n",
    "    val_h2 = net.init_hidden(batch_size)\n",
    "    val_losses = []\n",
    "    net.eval()\n",
    "    for inputs, labels in valid_loader:\n",
    "        val_h1 = tuple([each.data for each in val_h1])\n",
    "        val_h2 = tuple([each.data for each in val_h2])\n",
    "        if (train_on_gpu):\n",
    "            inputs, labels = inputs.cuda(), labels.cuda()\n",
    "        output, val_h1, val_h2 = net(inputs, val_h1, val_h2)\n",
    "        val_loss = criterion(output.squeeze(), labels.float())                \n",
    "        val_losses.append(val_loss.item())\n",
    "    valloss_vs_epoch.append([e+1, np.mean(val_losses)])\n",
    "    test_losses = []\n",
    "    num_correct = 0\n",
    "    test_h1 = net.init_hidden(batch_size)\n",
    "    test_h2 = net.init_hidden(batch_size)    \n",
    "    for inputs, labels in test_loader:\n",
    "        test_h1 = tuple([each.data for each in test_h1])\n",
    "        test_h2 = tuple([each.data for each in test_h2])\n",
    "        if (train_on_gpu):\n",
    "            inputs, labels = inputs.cuda(), labels.cuda()\n",
    "        output, test_h1, test_h2 = net(inputs, test_h1, test_h2)\n",
    "        test_loss = criterion(output.squeeze(), labels.float())                \n",
    "        test_losses.append(test_loss.item())\n",
    "        pred = torch.round(output.squeeze())\n",
    "        correct_tensor = pred.eq(labels.float().view_as(pred))\n",
    "        correct = np.squeeze(correct_tensor.numpy()) if not train_on_gpu else np.squeeze(correct_tensor.cpu().numpy())\n",
    "        num_correct += np.sum(correct)\n",
    "    accuracy = num_correct/len(test_loader.dataset)\n",
    "    if accuracy > accuracy_old:\n",
    "        accuracy_old=accuracy\n",
    "        model_name = 'best_model.net'\n",
    "        checkpoint = {'vocab_size': net.vocab_size,\n",
    "                     'output_size': net.output_size,\n",
    "                     'embedding_dim': net.embedding_dim,\n",
    "                     'hidden_dim': net.hidden_dim,\n",
    "                     'n_layers':net.n_layers,\n",
    "                     'state_dict': net.state_dict()}\n",
    "        with open(model_name, 'wb') as f:\n",
    "            torch.save(checkpoint, f)        \n",
    "    testloss_vs_epoch.append([e+1, np.mean(test_losses)])\n",
    "    accuracy_vs_epoch.append([e+1, num_correct/len(test_loader.dataset)])\n",
    "    net.train()\n",
    "    #print(\"Epoch: {}/{}---\".format(e+1, epochs),\n",
    "    #        \"Step: {}---\".format(counter),\n",
    "    #        \"Loss: {:.6f}---\".format(loss.item()),\n",
    "    #        \"Val_Loss: {:.6f}\".format(np.mean(val_losses)))\n",
    "    print( \"Epoch: {}/{}---finished---accuracy:{}\".format(e+1,epochs, accuracy))\n",
    "\n",
    "loss_vs_epoch = np.array(loss_vs_epoch)\n",
    "valloss_vs_epoch = np.array(valloss_vs_epoch)\n",
    "testloss_vs_epoch = np.array(testloss_vs_epoch)\n",
    "accuracy_vs_epoch = np.array(accuracy_vs_epoch)\n",
    "%matplotlib inline\n",
    "import matplotlib.pyplot as plt\n",
    "plt.plot(loss_vs_epoch[:,0], loss_vs_epoch[:,1], linewidth=2.0)\n",
    "plt.xlabel('epoch')\n",
    "plt.ylabel('Training loss')\n",
    "plt.show()            \n",
    "\n",
    "plt.plot(valloss_vs_epoch[:,0], valloss_vs_epoch[:,1], linewidth=2.0)\n",
    "plt.xlabel('epoch')\n",
    "plt.ylabel('Validation loss')\n",
    "plt.show()            \n",
    "\n",
    "plt.plot(testloss_vs_epoch[:,0], testloss_vs_epoch[:,1], linewidth=2.0)\n",
    "plt.xlabel('epoch')\n",
    "plt.ylabel('Test loss')\n",
    "plt.show()            \n",
    "\n",
    "plt.plot(accuracy_vs_epoch[:,0], accuracy_vs_epoch[:,1], linewidth=2.0)\n",
    "plt.xlabel('epoch')\n",
    "plt.ylabel('Accuracy')\n",
    "plt.show()                    "
   ]
  },
  {
   "cell_type": "code",
   "execution_count": null,
   "metadata": {},
   "outputs": [],
   "source": [
    "def logloss(true_label, predicted, eps=1e-15):\n",
    "    p = np.clip(predicted, eps, 1 - eps)\n",
    "    if true_label == 1:\n",
    "        return -log(p)\n",
    "    else:\n",
    "        return -log(1-p)"
   ]
  }
 ],
 "metadata": {
  "anaconda-cloud": {},
  "kernelspec": {
   "display_name": "Python [default]",
   "language": "python",
   "name": "python3"
  },
  "language_info": {
   "codemirror_mode": {
    "name": "ipython",
    "version": 3
   },
   "file_extension": ".py",
   "mimetype": "text/x-python",
   "name": "python",
   "nbconvert_exporter": "python",
   "pygments_lexer": "ipython3",
   "version": "3.6.5"
  }
 },
 "nbformat": 4,
 "nbformat_minor": 2
}
